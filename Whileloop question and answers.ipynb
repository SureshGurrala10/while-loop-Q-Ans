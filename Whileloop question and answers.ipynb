{
 "cells": [
  {
   "cell_type": "code",
   "execution_count": null,
   "id": "04a3695e",
   "metadata": {},
   "outputs": [],
   "source": [
    "#x=abcd123ef"
   ]
  },
  {
   "cell_type": "code",
   "execution_count": 10,
   "id": "e64e61ef",
   "metadata": {},
   "outputs": [
    {
     "name": "stdout",
     "output_type": "stream",
     "text": [
      "enter your string:abcd123eef\n"
     ]
    }
   ],
   "source": [
    "x=input(\"enter your string:\")\n",
    "y=0\n",
    "str=\"\"\n",
    "str1=\"\"\n",
    "while y<len(x):\n",
    "    if x[y].isdigit():\n",
    "        str=str+x[y]\n",
    "    else:\n",
    "        str1=str1+x[y]\n",
    "    y=y+1"
   ]
  },
  {
   "cell_type": "code",
   "execution_count": 5,
   "id": "cd28ac88",
   "metadata": {},
   "outputs": [
    {
     "data": {
      "text/plain": [
       "'123'"
      ]
     },
     "execution_count": 5,
     "metadata": {},
     "output_type": "execute_result"
    }
   ],
   "source": [
    "str"
   ]
  },
  {
   "cell_type": "code",
   "execution_count": 11,
   "id": "066f0713",
   "metadata": {},
   "outputs": [
    {
     "data": {
      "text/plain": [
       "'abcdeef'"
      ]
     },
     "execution_count": 11,
     "metadata": {},
     "output_type": "execute_result"
    }
   ],
   "source": [
    "str1"
   ]
  },
  {
   "cell_type": "code",
   "execution_count": 9,
   "id": "40718a9c",
   "metadata": {},
   "outputs": [
    {
     "name": "stdout",
     "output_type": "stream",
     "text": [
      "enter your string:abc123def\n",
      "string a\n",
      "string ab\n",
      "string abc\n",
      "Number 1\n",
      "Number 12\n",
      "Number 123\n",
      "string abcd\n",
      "string abcde\n",
      "string abcdef\n"
     ]
    }
   ],
   "source": [
    "x=input(\"enter your string:\")\n",
    "y=0\n",
    "str=\"\"\n",
    "str1=\"\"\n",
    "while y<len(x):\n",
    "    if x[y].isdigit():\n",
    "        str=str+x[y]\n",
    "        print(\"Number\",str)\n",
    "    else:\n",
    "        str1=str1+x[y]\n",
    "        print(\"string\",str1)\n",
    "    y=y+1"
   ]
  },
  {
   "cell_type": "code",
   "execution_count": 12,
   "id": "b0f92006",
   "metadata": {},
   "outputs": [],
   "source": [
    "#x=[\"a\",1.2,322,\"abc\",1+2j]"
   ]
  },
  {
   "cell_type": "code",
   "execution_count": 14,
   "id": "2268201a",
   "metadata": {},
   "outputs": [
    {
     "name": "stdout",
     "output_type": "stream",
     "text": [
      "<class 'str'>\n",
      "<class 'float'>\n",
      "<class 'int'>\n",
      "<class 'str'>\n",
      "<class 'complex'>\n"
     ]
    }
   ],
   "source": [
    "x=[\"a\",1.2,322,\"abc\",1+2j]\n",
    "y=0\n",
    "while y<len(x):\n",
    "    print(type(x[y]))\n",
    "    y=y+1 "
   ]
  },
  {
   "cell_type": "code",
   "execution_count": 15,
   "id": "a0f1765c",
   "metadata": {},
   "outputs": [],
   "source": [
    "#x=\"abcde\" o/p:AbCdE"
   ]
  },
  {
   "cell_type": "code",
   "execution_count": 18,
   "id": "4466d9e7",
   "metadata": {},
   "outputs": [
    {
     "name": "stdout",
     "output_type": "stream",
     "text": [
      "enter a string:abcdef\n"
     ]
    }
   ],
   "source": [
    "x=input(\"enter a string:\")\n",
    "y=0\n",
    "str=\"\"\n",
    "while y<len(x):\n",
    "    if y%2==0:\n",
    "        str=str+x[y].upper()\n",
    "    else:\n",
    "        str=str+x[y]\n",
    "    y=y+1"
   ]
  },
  {
   "cell_type": "code",
   "execution_count": 19,
   "id": "f02e0352",
   "metadata": {},
   "outputs": [
    {
     "data": {
      "text/plain": [
       "'AbCdEf'"
      ]
     },
     "execution_count": 19,
     "metadata": {},
     "output_type": "execute_result"
    }
   ],
   "source": [
    "str"
   ]
  },
  {
   "cell_type": "code",
   "execution_count": 22,
   "id": "18812d68",
   "metadata": {},
   "outputs": [
    {
     "name": "stdout",
     "output_type": "stream",
     "text": [
      "enter a string:abcdef\n",
      "string A\n",
      "string Ab\n",
      "string AbC\n",
      "string AbCd\n",
      "string AbCdE\n",
      "string AbCdEf\n"
     ]
    }
   ],
   "source": [
    "x=input(\"enter a string:\")\n",
    "y=0\n",
    "str=\"\"\n",
    "while y<len(x):\n",
    "    if y%2==0:\n",
    "        str=str+x[y].upper()\n",
    "        print(\"string\",str)\n",
    "    else:\n",
    "        str=str+x[y]\n",
    "        print(\"string\",str)\n",
    "    y=y+1"
   ]
  },
  {
   "cell_type": "code",
   "execution_count": 23,
   "id": "115a2e1e",
   "metadata": {},
   "outputs": [
    {
     "data": {
      "text/plain": [
       "{1, 4, 6, 7}"
      ]
     },
     "execution_count": 23,
     "metadata": {},
     "output_type": "execute_result"
    }
   ],
   "source": [
    "l1=[1,2,3,4,5]\n",
    "l2=[2,3,5,6,7]\n",
    "set(l1)^set(l2)\n"
   ]
  },
  {
   "cell_type": "code",
   "execution_count": 43,
   "id": "e51d206b",
   "metadata": {},
   "outputs": [],
   "source": [
    "#x=[\"a\",1,\"b\",2,\"c\",3,\"d\",4,\"e\"]"
   ]
  },
  {
   "cell_type": "code",
   "execution_count": 5,
   "id": "cc84f243",
   "metadata": {},
   "outputs": [
    {
     "name": "stdout",
     "output_type": "stream",
     "text": [
      "String: a\n",
      "total: 1\n",
      "String: ab\n",
      "total: 3\n",
      "String: abc\n",
      "total: 6\n",
      "String: abcd\n",
      "total: 10\n",
      "String: abcde\n"
     ]
    }
   ],
   "source": [
    "x=[\"a\",1,\"b\",2,\"c\",3,\"d\",4,\"e\"]\n",
    "y=0\n",
    "count=0\n",
    "str1=\"\"\n",
    "while y<len(x):\n",
    "    \n",
    "    if str(x[y]).isalpha():\n",
    "        str1=str1+x[y]\n",
    "        print(\"String:\",str1)\n",
    "    else:\n",
    "        count=count+x[y]\n",
    "        print(\"total:\",count)\n",
    "\n",
    "    y=y+1"
   ]
  },
  {
   "cell_type": "code",
   "execution_count": 32,
   "id": "783e15d4",
   "metadata": {},
   "outputs": [],
   "source": [
    "#calculator"
   ]
  },
  {
   "cell_type": "code",
   "execution_count": 33,
   "id": "5e151b36",
   "metadata": {},
   "outputs": [
    {
     "name": "stdout",
     "output_type": "stream",
     "text": [
      "enter a num2\n",
      "enter opeation +,-,*,/,%+\n",
      "enter another number3\n",
      "5\n"
     ]
    }
   ],
   "source": [
    "x=int(input(\"enter a num\"))\n",
    "oper=input(\"enter opeation +,-,*,/,%\")\n",
    "y=int(input(\"enter another number\"))\n",
    "while True:\n",
    "    if oper=='+':\n",
    "        print(x+y)\n",
    "        break\n",
    "    if oper=='-':\n",
    "        print(x-y)\n",
    "        break\n",
    "    if oper=='*':\n",
    "        print(x*y)\n",
    "        break\n",
    "    if oper=='/':\n",
    "        print(x/y)\n",
    "        break\n",
    "    if oper=='%':\n",
    "        print(x%y)\n",
    "        break\n",
    "        "
   ]
  },
  {
   "cell_type": "code",
   "execution_count": 34,
   "id": "822bff01",
   "metadata": {},
   "outputs": [
    {
     "name": "stdout",
     "output_type": "stream",
     "text": [
      "enter a num2\n",
      "enter opeation +,-,*,/,%*\n",
      "enter another number3\n",
      "6\n"
     ]
    }
   ],
   "source": [
    "x=int(input(\"enter a num\"))\n",
    "oper=input(\"enter opeation +,-,*,/,%\")\n",
    "y=int(input(\"enter another number\"))\n",
    "while True:\n",
    "    if oper=='+':\n",
    "        print(x+y)\n",
    "        break\n",
    "    if oper=='-':\n",
    "        print(x-y)\n",
    "        break\n",
    "    if oper=='*':\n",
    "        print(x*y)\n",
    "        break\n",
    "    if oper=='/':\n",
    "        print(x/y)\n",
    "        break\n",
    "    if oper=='%':\n",
    "        print(x%y)\n",
    "        break"
   ]
  },
  {
   "cell_type": "code",
   "execution_count": 35,
   "id": "1e8c1b4d",
   "metadata": {},
   "outputs": [
    {
     "name": "stdout",
     "output_type": "stream",
     "text": [
      "enter a num2\n",
      "enter opeation +,-,*,/,%%\n",
      "enter another number3\n",
      "2\n"
     ]
    }
   ],
   "source": [
    "x=int(input(\"enter a num\"))\n",
    "oper=input(\"enter opeation +,-,*,/,%\")\n",
    "y=int(input(\"enter another number\"))\n",
    "while True:\n",
    "    if oper=='+':\n",
    "        print(x+y)\n",
    "        break\n",
    "    if oper=='-':\n",
    "        print(x-y)\n",
    "        break\n",
    "    if oper=='*':\n",
    "        print(x*y)\n",
    "        break\n",
    "    if oper=='/':\n",
    "        print(x/y)\n",
    "        break\n",
    "    if oper=='%':\n",
    "        print(x%y)\n",
    "        break"
   ]
  },
  {
   "cell_type": "code",
   "execution_count": null,
   "id": "1ce287bc",
   "metadata": {},
   "outputs": [],
   "source": []
  }
 ],
 "metadata": {
  "kernelspec": {
   "display_name": "Python 3 (ipykernel)",
   "language": "python",
   "name": "python3"
  },
  "language_info": {
   "codemirror_mode": {
    "name": "ipython",
    "version": 3
   },
   "file_extension": ".py",
   "mimetype": "text/x-python",
   "name": "python",
   "nbconvert_exporter": "python",
   "pygments_lexer": "ipython3",
   "version": "3.9.12"
  }
 },
 "nbformat": 4,
 "nbformat_minor": 5
}
